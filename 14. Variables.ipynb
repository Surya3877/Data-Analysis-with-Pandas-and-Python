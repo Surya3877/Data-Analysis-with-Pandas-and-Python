{
 "cells": [
  {
   "cell_type": "markdown",
   "id": "813137f4-8dcb-4e6e-8d5b-a1c1a70de3de",
   "metadata": {},
   "source": [
    "# **Variables**.\n",
    "  - A **variable** is a name for a value in your program. It is a palceholder for the value.\n",
    "  - A value that a variable represents can vary over program."
   ]
  },
  {
   "cell_type": "code",
   "execution_count": 2,
   "id": "005f29f9-0739-440c-b19e-e50a05924581",
   "metadata": {},
   "outputs": [],
   "source": [
    "age = 32"
   ]
  },
  {
   "cell_type": "code",
   "execution_count": 3,
   "id": "c3208808-069e-48dc-b2d1-20d9f13e7d7b",
   "metadata": {},
   "outputs": [
    {
     "data": {
      "text/plain": [
       "37"
      ]
     },
     "execution_count": 3,
     "metadata": {},
     "output_type": "execute_result"
    }
   ],
   "source": [
    "age + 5"
   ]
  },
  {
   "cell_type": "code",
   "execution_count": 4,
   "id": "c7a33f44-b799-4ff3-80c4-660b1fada857",
   "metadata": {},
   "outputs": [],
   "source": [
    "price = 19.99\n",
    "prefession = \"Software Engineer\"\n",
    "\n",
    "#Snake-case-formatting\n",
    "first_name = \"Boris\"\n",
    "is_handsome = True"
   ]
  },
  {
   "cell_type": "code",
   "execution_count": 7,
   "id": "07e25252-376d-4658-aa0d-2f682feebf8f",
   "metadata": {},
   "outputs": [
    {
     "data": {
      "text/plain": [
       "'Boris the Great'"
      ]
     },
     "execution_count": 7,
     "metadata": {},
     "output_type": "execute_result"
    }
   ],
   "source": [
    "first_name +\" \" + \"the Great\""
   ]
  },
  {
   "cell_type": "code",
   "execution_count": 8,
   "id": "8463624d-c171-4ad8-b67b-3f102054f051",
   "metadata": {},
   "outputs": [],
   "source": [
    "Profession = \"Python Developer\""
   ]
  },
  {
   "cell_type": "code",
   "execution_count": 9,
   "id": "0899f11c-e696-4ae6-b7e7-7b749b3985ce",
   "metadata": {},
   "outputs": [
    {
     "data": {
      "text/plain": [
       "'Python Developer'"
      ]
     },
     "execution_count": 9,
     "metadata": {},
     "output_type": "execute_result"
    }
   ],
   "source": [
    "Profession"
   ]
  },
  {
   "cell_type": "code",
   "execution_count": 10,
   "id": "2a977eb3-66bb-40a6-ad11-7f92293e9b9e",
   "metadata": {},
   "outputs": [
    {
     "data": {
      "text/plain": [
       "32"
      ]
     },
     "execution_count": 10,
     "metadata": {},
     "output_type": "execute_result"
    }
   ],
   "source": [
    "age"
   ]
  },
  {
   "cell_type": "code",
   "execution_count": 13,
   "id": "b7d54259-a15c-4525-84c5-8b0529e3ce50",
   "metadata": {},
   "outputs": [],
   "source": [
    "age = age + 5"
   ]
  },
  {
   "cell_type": "code",
   "execution_count": 14,
   "id": "5d59ebd4-2519-4a2c-b200-5e19da83db4c",
   "metadata": {},
   "outputs": [
    {
     "data": {
      "text/plain": [
       "42"
      ]
     },
     "execution_count": 14,
     "metadata": {},
     "output_type": "execute_result"
    }
   ],
   "source": [
    "age"
   ]
  },
  {
   "cell_type": "code",
   "execution_count": null,
   "id": "9648e421-55ae-49df-94dd-cf674e35dbfa",
   "metadata": {},
   "outputs": [],
   "source": []
  }
 ],
 "metadata": {
  "kernelspec": {
   "display_name": "Python 3 (ipykernel)",
   "language": "python",
   "name": "python3"
  },
  "language_info": {
   "codemirror_mode": {
    "name": "ipython",
    "version": 3
   },
   "file_extension": ".py",
   "mimetype": "text/x-python",
   "name": "python",
   "nbconvert_exporter": "python",
   "pygments_lexer": "ipython3",
   "version": "3.9.18"
  }
 },
 "nbformat": 4,
 "nbformat_minor": 5
}
