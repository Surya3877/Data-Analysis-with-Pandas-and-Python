{
 "cells": [
  {
   "cell_type": "markdown",
   "id": "d1385d5b-8d1f-4d0d-8ee6-09e76b553a06",
   "metadata": {},
   "source": [
    "# **Basic Data Types**"
   ]
  },
  {
   "cell_type": "code",
   "execution_count": 2,
   "id": "77b5b0b6-382d-42bd-bec0-d918bd9ccbb5",
   "metadata": {},
   "outputs": [
    {
     "data": {
      "text/plain": [
       "0"
      ]
     },
     "execution_count": 2,
     "metadata": {},
     "output_type": "execute_result"
    }
   ],
   "source": [
    "# Interger - Whole Number\n",
    "5\n",
    "10\n",
    "-23\n",
    "0"
   ]
  },
  {
   "cell_type": "code",
   "execution_count": 3,
   "id": "d4056b1a-6062-4138-a3a3-26bf24823d65",
   "metadata": {},
   "outputs": [
    {
     "data": {
      "text/plain": [
       "-113.231819"
      ]
     },
     "execution_count": 3,
     "metadata": {},
     "output_type": "execute_result"
    }
   ],
   "source": [
    "# Floting-point - number with a decimal/ fractional component\n",
    "3.14\n",
    "3.14159\n",
    "9.99\n",
    "-113.231819"
   ]
  },
  {
   "cell_type": "code",
   "execution_count": 6,
   "id": "8e171a02-6bc9-4c22-8838-c7674580fc60",
   "metadata": {},
   "outputs": [
    {
     "data": {
      "text/plain": [
       "'123 dollars.!@#$%^'"
      ]
     },
     "execution_count": 6,
     "metadata": {},
     "output_type": "execute_result"
    }
   ],
   "source": [
    "# String - a piece of text, collection of characters.\n",
    "\"Boris\"\n",
    "\"123 dollars.!@#$%^\""
   ]
  },
  {
   "cell_type": "code",
   "execution_count": 9,
   "id": "cc4a7948-1929-4f8d-8c28-34bf62200fb7",
   "metadata": {},
   "outputs": [
    {
     "data": {
      "text/plain": [
       "144.14000000000001"
      ]
     },
     "execution_count": 9,
     "metadata": {},
     "output_type": "execute_result"
    }
   ],
   "source": [
    "139.99 + 4.15\n",
    "# \"139.99\" + 4.15"
   ]
  },
  {
   "cell_type": "code",
   "execution_count": 10,
   "id": "4e984ec8-f3d5-463a-8aff-3b18b5af9373",
   "metadata": {},
   "outputs": [
    {
     "data": {
      "text/plain": [
       "''"
      ]
     },
     "execution_count": 10,
     "metadata": {},
     "output_type": "execute_result"
    }
   ],
   "source": [
    "# Empty string - a string without characters\n",
    "\"\""
   ]
  },
  {
   "cell_type": "code",
   "execution_count": null,
   "id": "654b2748-61d1-4b3b-b32c-be9b6feaea62",
   "metadata": {},
   "outputs": [],
   "source": [
    "# Boolen - George Boole\n",
    "True\n",
    "False"
   ]
  },
  {
   "cell_type": "code",
   "execution_count": 12,
   "id": "769f404e-8d43-43a4-94ec-cd998c2375d2",
   "metadata": {},
   "outputs": [
    {
     "data": {
      "text/plain": [
       "True"
      ]
     },
     "execution_count": 12,
     "metadata": {},
     "output_type": "execute_result"
    }
   ],
   "source": [
    "5 < 7"
   ]
  },
  {
   "cell_type": "code",
   "execution_count": 13,
   "id": "b08afcab-acfe-465b-a72c-d7641bcae4ae",
   "metadata": {},
   "outputs": [
    {
     "data": {
      "text/plain": [
       "False"
      ]
     },
     "execution_count": 13,
     "metadata": {},
     "output_type": "execute_result"
    }
   ],
   "source": [
    "10 > 12"
   ]
  },
  {
   "cell_type": "code",
   "execution_count": null,
   "id": "906acd1d-002a-4d30-b744-4ee2d0bbe377",
   "metadata": {},
   "outputs": [],
   "source": [
    "# None - a type that re"
   ]
  }
 ],
 "metadata": {
  "kernelspec": {
   "display_name": "Python 3 (ipykernel)",
   "language": "python",
   "name": "python3"
  },
  "language_info": {
   "codemirror_mode": {
    "name": "ipython",
    "version": 3
   },
   "file_extension": ".py",
   "mimetype": "text/x-python",
   "name": "python",
   "nbconvert_exporter": "python",
   "pygments_lexer": "ipython3",
   "version": "3.9.18"
  }
 },
 "nbformat": 4,
 "nbformat_minor": 5
}
