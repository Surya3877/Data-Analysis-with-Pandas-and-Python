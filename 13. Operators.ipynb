{
 "cells": [
  {
   "cell_type": "markdown",
   "id": "c13ff186-3039-4f0f-8758-88ea271b2b62",
   "metadata": {},
   "source": [
    "# **Operators**\n",
    "   ## - An **operator** is a symbol that performs an operation (mathematical, logical, ect)"
   ]
  },
  {
   "cell_type": "code",
   "execution_count": 1,
   "id": "357df91c-9e7c-4239-94b2-da73a67d6b79",
   "metadata": {},
   "outputs": [
    {
     "data": {
      "text/plain": [
       "15.23"
      ]
     },
     "execution_count": 1,
     "metadata": {},
     "output_type": "execute_result"
    }
   ],
   "source": [
    "5 + 3\n",
    "3.14 + 7.96\n",
    "5 + 10.23"
   ]
  },
  {
   "cell_type": "code",
   "execution_count": 2,
   "id": "3889e193-0c25-4e9a-a148-c25caba9adc6",
   "metadata": {},
   "outputs": [
    {
     "data": {
      "text/plain": [
       "'race car'"
      ]
     },
     "execution_count": 2,
     "metadata": {},
     "output_type": "execute_result"
    }
   ],
   "source": [
    "# Concentation - combining two strings together\n",
    "\"race\" \" \" + \"car\""
   ]
  },
  {
   "cell_type": "code",
   "execution_count": 3,
   "id": "c3ced7af-65a9-4a3c-811d-261ccbcd00a0",
   "metadata": {},
   "outputs": [],
   "source": [
    "# \"race\" + 5\n",
    "# 5 + \"race\""
   ]
  },
  {
   "cell_type": "code",
   "execution_count": 4,
   "id": "d748524e-f2f0-4010-9d59-5e617df490da",
   "metadata": {},
   "outputs": [
    {
     "data": {
      "text/plain": [
       "5"
      ]
     },
     "execution_count": 4,
     "metadata": {},
     "output_type": "execute_result"
    }
   ],
   "source": [
    "10 - 5"
   ]
  },
  {
   "cell_type": "code",
   "execution_count": 7,
   "id": "bd4813a0-b1dc-41a8-a31f-eb2c4736bd8e",
   "metadata": {},
   "outputs": [
    {
     "data": {
      "text/plain": [
       "12"
      ]
     },
     "execution_count": 7,
     "metadata": {},
     "output_type": "execute_result"
    }
   ],
   "source": [
    "4 * 3"
   ]
  },
  {
   "cell_type": "code",
   "execution_count": 10,
   "id": "0e606466-7fca-4f20-9ce1-4c504839601a",
   "metadata": {},
   "outputs": [
    {
     "data": {
      "text/plain": [
       "'Mahi Mahi Mahi '"
      ]
     },
     "execution_count": 10,
     "metadata": {},
     "output_type": "execute_result"
    }
   ],
   "source": [
    "\"Mahi\" \" \" * 3"
   ]
  },
  {
   "cell_type": "code",
   "execution_count": 12,
   "id": "79a97a05-8932-4336-a1f6-274bf881f903",
   "metadata": {},
   "outputs": [],
   "source": [
    "# PEMDAS - Paranthesis, Exponents, Multiplication/Division, Addition/Subtraction"
   ]
  },
  {
   "cell_type": "code",
   "execution_count": 14,
   "id": "94d6bff4-0e64-4055-a408-d141faa3bd06",
   "metadata": {},
   "outputs": [
    {
     "data": {
      "text/plain": [
       "35"
      ]
     },
     "execution_count": 14,
     "metadata": {},
     "output_type": "execute_result"
    }
   ],
   "source": [
    "3 + 4 * 5\n",
    "(3 + 4 ) * 5"
   ]
  },
  {
   "cell_type": "code",
   "execution_count": 16,
   "id": "cc970444-179e-4b0d-aaaf-4468d497b65a",
   "metadata": {},
   "outputs": [
    {
     "data": {
      "text/plain": [
       "3.0"
      ]
     },
     "execution_count": 16,
     "metadata": {},
     "output_type": "execute_result"
    }
   ],
   "source": [
    "15 / 4\n",
    "12 / 4"
   ]
  },
  {
   "cell_type": "code",
   "execution_count": 20,
   "id": "486c8377-1c17-4ab3-b949-2bfe5f28c230",
   "metadata": {},
   "outputs": [
    {
     "data": {
      "text/plain": [
       "4"
      ]
     },
     "execution_count": 20,
     "metadata": {},
     "output_type": "execute_result"
    }
   ],
   "source": [
    "# Floor Division - leaves out the floating - point\n",
    "10 // 3\n",
    "11 // 3\n",
    "12 // 3"
   ]
  },
  {
   "cell_type": "code",
   "execution_count": 22,
   "id": "6c4cfec2-13d1-4ba0-9928-5c3648ee4b50",
   "metadata": {},
   "outputs": [],
   "source": [
    "# Modulo operator - returns the remainder of a division"
   ]
  },
  {
   "cell_type": "code",
   "execution_count": 23,
   "id": "8eb0daab-4607-41a9-bd87-73f7aba995f5",
   "metadata": {},
   "outputs": [
    {
     "data": {
      "text/plain": [
       "0"
      ]
     },
     "execution_count": 23,
     "metadata": {},
     "output_type": "execute_result"
    }
   ],
   "source": [
    "14 % 3\n",
    "13 % 3\n",
    "15 % 3"
   ]
  },
  {
   "cell_type": "code",
   "execution_count": 27,
   "id": "08dfbcae-a2c8-4429-8283-0f8bbdba9d74",
   "metadata": {},
   "outputs": [
    {
     "data": {
      "text/plain": [
       "False"
      ]
     },
     "execution_count": 27,
     "metadata": {},
     "output_type": "execute_result"
    }
   ],
   "source": [
    "# Equality operator - check if the two values are equal\n",
    "1 == 1\n",
    "1 == 2\n",
    "5 == 5.0\n",
    "5 == 5.1"
   ]
  },
  {
   "cell_type": "code",
   "execution_count": 31,
   "id": "debe68a4-0d18-4434-8c53-bf341a6ea336",
   "metadata": {},
   "outputs": [
    {
     "data": {
      "text/plain": [
       "False"
      ]
     },
     "execution_count": 31,
     "metadata": {},
     "output_type": "execute_result"
    }
   ],
   "source": [
    "\"Hello\" == \"Hello\"\n",
    "\"Hello\" == \"Goodbye\"\n",
    "\"Hello\" == \"hello\"\n",
    "\"Hello\" == \"Hello \""
   ]
  },
  {
   "cell_type": "code",
   "execution_count": 32,
   "id": "c86518f9-457a-4773-a287-e7bc228bf4d7",
   "metadata": {},
   "outputs": [
    {
     "data": {
      "text/plain": [
       "False"
      ]
     },
     "execution_count": 32,
     "metadata": {},
     "output_type": "execute_result"
    }
   ],
   "source": [
    "True == True\n",
    "True == False\n",
    "False == False\n",
    "False == True"
   ]
  },
  {
   "cell_type": "code",
   "execution_count": 37,
   "id": "17b7a2f9-c611-45f0-b0e4-bf699c329ec2",
   "metadata": {},
   "outputs": [
    {
     "data": {
      "text/plain": [
       "True"
      ]
     },
     "execution_count": 37,
     "metadata": {},
     "output_type": "execute_result"
    }
   ],
   "source": [
    "# Inequality operator - checks if the two values are NOT equal\n",
    "# !=\n",
    "\n",
    "5 != 10\n",
    "5 != 5\n",
    "\"Hello\" != \"Hello\"\n",
    "\"Hello\" != \"hello\"\n",
    "\"Hello\" != \"Hello \""
   ]
  },
  {
   "cell_type": "code",
   "execution_count": 38,
   "id": "b773df64-4b2f-4cf9-ba64-3f3455c0e811",
   "metadata": {},
   "outputs": [
    {
     "data": {
      "text/plain": [
       "True"
      ]
     },
     "execution_count": 38,
     "metadata": {},
     "output_type": "execute_result"
    }
   ],
   "source": [
    "5 < 8"
   ]
  },
  {
   "cell_type": "code",
   "execution_count": 41,
   "id": "8164c139-2c03-4d3a-a097-7857dea79996",
   "metadata": {},
   "outputs": [
    {
     "data": {
      "text/plain": [
       "False"
      ]
     },
     "execution_count": 41,
     "metadata": {},
     "output_type": "execute_result"
    }
   ],
   "source": [
    "5 <= 8\n",
    "8 <= 8\n",
    "10 <= 8"
   ]
  },
  {
   "cell_type": "code",
   "execution_count": 42,
   "id": "502bcfef-fb3f-4c7d-9168-2ad758f0245a",
   "metadata": {},
   "outputs": [
    {
     "data": {
      "text/plain": [
       "False"
      ]
     },
     "execution_count": 42,
     "metadata": {},
     "output_type": "execute_result"
    }
   ],
   "source": [
    "14 > 9\n",
    "14 >= 9\n",
    "14 >= 14\n",
    "14 >= 17"
   ]
  },
  {
   "cell_type": "code",
   "execution_count": null,
   "id": "f498fe14-e95c-4e49-ae78-873849ec3d09",
   "metadata": {},
   "outputs": [],
   "source": []
  }
 ],
 "metadata": {
  "kernelspec": {
   "display_name": "Python 3 (ipykernel)",
   "language": "python",
   "name": "python3"
  },
  "language_info": {
   "codemirror_mode": {
    "name": "ipython",
    "version": 3
   },
   "file_extension": ".py",
   "mimetype": "text/x-python",
   "name": "python",
   "nbconvert_exporter": "python",
   "pygments_lexer": "ipython3",
   "version": "3.9.18"
  }
 },
 "nbformat": 4,
 "nbformat_minor": 5
}
