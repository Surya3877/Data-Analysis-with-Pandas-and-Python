{
 "cells": [
  {
   "cell_type": "markdown",
   "id": "90beeba6-a8ab-4de7-b0a1-eb21179498a8",
   "metadata": {},
   "source": [
    "# **Python Crash Crouse**"
   ]
  },
  {
   "cell_type": "markdown",
   "id": "4c9d8d1b-b3d0-4905-8641-ba208c10eabf",
   "metadata": {},
   "source": [
    "## Comments\n",
    "   - A **Comment** is a line of text ignored by python.\n",
    "   - Use a hashtag/octothorpe (#) to create a comment."
   ]
  },
  {
   "cell_type": "code",
   "execution_count": 2,
   "id": "0d264543-f36b-4920-af8f-f0dda76d81db",
   "metadata": {},
   "outputs": [
    {
     "data": {
      "text/plain": [
       "20"
      ]
     },
     "execution_count": 2,
     "metadata": {},
     "output_type": "execute_result"
    }
   ],
   "source": [
    "# Author: Boris\n",
    "3+3\n",
    "5+5\n",
    "10+10 # Solve really complex mathematical expression using Python"
   ]
  },
  {
   "cell_type": "code",
   "execution_count": null,
   "id": "b22c207d-4c61-4fc3-9c4b-5d5b88a55431",
   "metadata": {},
   "outputs": [],
   "source": []
  }
 ],
 "metadata": {
  "kernelspec": {
   "display_name": "Python 3 (ipykernel)",
   "language": "python",
   "name": "python3"
  },
  "language_info": {
   "codemirror_mode": {
    "name": "ipython",
    "version": 3
   },
   "file_extension": ".py",
   "mimetype": "text/x-python",
   "name": "python",
   "nbconvert_exporter": "python",
   "pygments_lexer": "ipython3",
   "version": "3.9.18"
  }
 },
 "nbformat": 4,
 "nbformat_minor": 5
}
